{
 "cells": [
  {
   "cell_type": "code",
   "execution_count": 1,
   "metadata": {},
   "outputs": [],
   "source": [
    "import numpy as np\n",
    "from random import randint\n",
    "import os\n",
    "import json\n",
    "import settings\n",
    "import pickle as pickle\n",
    "from fileProcess import FileReader, FileStore \n",
    "from preProcessData import FeatureExtraction, NLP\n",
    "from pyvi import ViTokenizer\n",
    "from sklearn.svm import LinearSVC\n",
    "from gensim import corpora, matutils\n",
    "from sklearn.metrics import classification_report\n",
    "from argparse import ArgumentParser\n",
    "import os.path\n",
    "import requests\n",
    "from underthesea import ner"
   ]
  },
  {
   "cell_type": "code",
   "execution_count": 2,
   "metadata": {},
   "outputs": [],
   "source": [
    "def is_valid_file(parser, arg):\n",
    "    if not os.path.exists(arg):\n",
    "        parser.error(\"The file %s does not exist!\" % arg)\n",
    "    else:\n",
    "        return open(arg, 'r')   # return an open file handle\n",
    "\n",
    "def readInput():\n",
    "    parser = ArgumentParser(description=\"ikjMatrix multiplication\")\n",
    "    parser.add_argument(\"-i\", dest=\"filename\", required=True,\n",
    "                        help=\"File need predict\", metavar=\"FILE\",\n",
    "                        type=lambda x: is_valid_file(parser, x))\n",
    "    args = parser.parse_args()\n",
    "    return args.filename.read()\n",
    "def selectPlace(list):\n",
    "    for text in list:\n",
    "        if text[3] == \"B-LOC\" or text[3] == \"I-LOC\":\n",
    "            yield(text[0])\n",
    "def findCoordinatePlace(place):\n",
    "#     if 'đường' not in place:\n",
    "#         return '16.059664953500032,108.21168188005686'\n",
    "#     else:\n",
    "        try:\n",
    "            if 'đường' in place:\n",
    "                place = place.replace('đường', '')\n",
    "            print(place)\n",
    "            data_json = requests.get('https://api.viettelmaps.com.vn:8080/gateway/searching/v1/place-api/geocoding?address='+place+'&access_token=f68f98d802ba6c0a60ee9dc44c47f48c').json()\n",
    "            coordinates = ','.join(str(e) for e in data_json['data']['geometry']['coordinates'][::-1])\n",
    "            return str(coordinates)\n",
    "        except:\n",
    "            return '16.059664953500032,108.21168188005686'"
   ]
  },
  {
   "cell_type": "code",
   "execution_count": 3,
   "metadata": {},
   "outputs": [],
   "source": [
    "classifier = pickle.load(open('trained_model/logistic_model.pk','rb'))"
   ]
  },
  {
   "cell_type": "code",
   "execution_count": 26,
   "metadata": {},
   "outputs": [],
   "source": [
    "# tf-idf\n",
    "data = 'Tình hình dịch bệnh'\n",
    "vectorizer = pickle.load(open(settings.VECTOR_EMBEDDING,'rb'))\n",
    "data_features = []\n",
    "data_features.append(' '.join(NLP(text=data).remove_stopwords()))\n",
    "features = vectorizer.transform(data_features)"
   ]
  },
  {
   "cell_type": "code",
   "execution_count": 25,
   "metadata": {},
   "outputs": [
    {
     "name": "stdout",
     "output_type": "stream",
     "text": [
      "['Ngân Hàng']\n",
      "[[0.00449493 0.02717287 0.21615128 0.65502868 0.00860625 0.0030003\n",
      "  0.06221356 0.02333212]]\n"
     ]
    },
    {
     "data": {
      "text/plain": [
       "0.655028684155208"
      ]
     },
     "execution_count": 25,
     "metadata": {},
     "output_type": "execute_result"
    }
   ],
   "source": [
    "print(classifier.predict(features))\n",
    "text_category = classifier.predict(features)[0]\n",
    "print(classifier.predict_proba(features))\n",
    "max(classifier.predict_proba(features)[0])"
   ]
  },
  {
   "cell_type": "markdown",
   "metadata": {},
   "source": [
    "## GET COORDINATE "
   ]
  },
  {
   "cell_type": "markdown",
   "metadata": {},
   "source": [
    "# TEST"
   ]
  },
  {
   "cell_type": "code",
   "execution_count": null,
   "metadata": {},
   "outputs": [],
   "source": [
    "data_json = requests.get('https://api.viettelmaps.com.vn:8080/gateway/searching/v1/place-api/autocomplete?input='+text_category+'&center='+coordinates+'&access_token=f68f98d802ba6c0a60ee9dc44c47f48c')\n"
   ]
  },
  {
   "cell_type": "code",
   "execution_count": null,
   "metadata": {},
   "outputs": [],
   "source": [
    "data_json = data_json.json()\n",
    "data_json"
   ]
  },
  {
   "cell_type": "markdown",
   "metadata": {},
   "source": [
    "# TEST POS TAGGING"
   ]
  },
  {
   "cell_type": "code",
   "execution_count": null,
   "metadata": {},
   "outputs": [],
   "source": [
    "from underthesea import ner"
   ]
  },
  {
   "cell_type": "code",
   "execution_count": 6,
   "metadata": {},
   "outputs": [
    {
     "data": {
      "text/plain": [
       "[('Tìm', 'V', 'B-VP', 'O'),\n",
       " ('ATM', 'Np', 'B-NP', 'B-PER'),\n",
       " ('trên', 'E', 'B-PP', 'O'),\n",
       " ('đường', 'N', 'B-NP', 'B-LOC'),\n",
       " ('Lê Duẩn', 'Np', 'I-NP', 'I-LOC'),\n",
       " (',', 'CH', 'O', 'O'),\n",
       " ('Đà Nẵng', 'Np', 'B-NP', 'B-LOC')]"
      ]
     },
     "execution_count": 6,
     "metadata": {},
     "output_type": "execute_result"
    }
   ],
   "source": [
    "result = ner(\"Tìm ATM trên đường Lê Duẩn, Đà Nẵng\")\n",
    "result"
   ]
  },
  {
   "cell_type": "code",
   "execution_count": 8,
   "metadata": {},
   "outputs": [],
   "source": [
    "def selectPlace(list):\n",
    "    for text in list:\n",
    "        if text[3] == \"B-LOC\" or text[3] == \"I-LOC\":\n",
    "            yield(text[0])\n",
    "list_result = ' '.join(str(e) for e in selectPlace(result))           "
   ]
  },
  {
   "cell_type": "code",
   "execution_count": 10,
   "metadata": {},
   "outputs": [],
   "source": [
    "data_json = requests.get('https://api.viettelmaps.com.vn:8080/gateway/placeapi/v2/place-api/geocode?address='+list_result+'&key=6ht5fdbc-1996-4f54-87gf-5664f304f3d2').json()\n"
   ]
  },
  {
   "cell_type": "code",
   "execution_count": 12,
   "metadata": {},
   "outputs": [],
   "source": [
    "coordinates = list(data_json['results'][0]['geometry']['location'].values())[::-1]"
   ]
  },
  {
   "cell_type": "code",
   "execution_count": 13,
   "metadata": {},
   "outputs": [
    {
     "data": {
      "text/plain": [
       "[108.20695884525776, 16.06657398864627]"
      ]
     },
     "execution_count": 13,
     "metadata": {},
     "output_type": "execute_result"
    }
   ],
   "source": [
    "coordinates"
   ]
  },
  {
   "cell_type": "code",
   "execution_count": 15,
   "metadata": {
    "scrolled": true
   },
   "outputs": [],
   "source": [
    "\n",
    "url = \"https://api.viettelmaps.vn/gateway/searching/v1/search/geojson/address?access_token=6ht5fdbc-1996-4f54-87gf-5664f304f3d2\"\n",
    "headers = {\n",
    "  'Content-Type': 'application/json'\n",
    "}\n",
    "payload = {\"limit\":\"10\",\"offset\":\"0\",\"sortByDistance\":\"true\",\"query\":\"\",\"proximity\":\"\",\"mode\":\"search_result\"}"
   ]
  },
  {
   "cell_type": "code",
   "execution_count": 19,
   "metadata": {},
   "outputs": [],
   "source": [
    "payload['query'] = text_category\n",
    "payload['proximity'] = [108.21636479342715, 16.069880066167755]"
   ]
  },
  {
   "cell_type": "code",
   "execution_count": 20,
   "metadata": {},
   "outputs": [
    {
     "data": {
      "text/plain": [
       "{'limit': '10',\n",
       " 'offset': '0',\n",
       " 'sortByDistance': 'true',\n",
       " 'query': 'ATM',\n",
       " 'proximity': [108.21636479342715, 16.069880066167755],\n",
       " 'mode': 'search_result'}"
      ]
     },
     "execution_count": 20,
     "metadata": {},
     "output_type": "execute_result"
    }
   ],
   "source": [
    "payload"
   ]
  },
  {
   "cell_type": "code",
   "execution_count": 21,
   "metadata": {},
   "outputs": [
    {
     "name": "stdout",
     "output_type": "stream",
     "text": [
      "{\"type\":\"FeatureCollection\",\"query\":[\"ATM\"],\"features\":[{\"id\":\"23774\",\"poiType\":21,\"type\":\"Feature\",\"place_type\":[\"place\"],\"relevance\":1.0,\"text\":\"ATM - MaritimeBank - Lê Duẩn\",\"place_name\":\"92 - 94 Lê Duẩn, Quận Hải Châu Đà Nẵng\",\"center\":[108.21622185409069,16.070774998515844],\"properties\":{},\"geometry\":{\"type\":\"Point\",\"coordinates\":[108.21622185409069,16.070774998515844]},\"imagepath\":\"https://files.viettelmap.vn/images/thumb/poi/atm.png\",\"markername\":\"https://files.viettelmap.vn/images/marker/poi/atm.png\",\"saved\":false},{\"id\":\"9135\",\"poiType\":21,\"type\":\"Feature\",\"place_type\":[\"place\"],\"relevance\":1.0,\"text\":\"ATM Techcombank - Techcombank Thanh Khe\",\"place_name\":\"92 - 94 Le Duan Street, Phường Thạch Thang, Quận Hải Châu, Đà Nẵng\",\"center\":[108.21644481271505,16.071067862212658],\"properties\":{},\"geometry\":{\"type\":\"Point\",\"coordinates\":[108.21644481271505,16.071067862212658]},\"imagepath\":\"https://files.viettelmap.vn/images/thumb/poi/atm.png\",\"markername\":\"https://files.viettelmap.vn/images/marker/poi/atm.png\",\"saved\":false},{\"id\":\"9297\",\"poiType\":21,\"type\":\"Feature\",\"place_type\":[\"place\"],\"relevance\":1.0,\"text\":\"ATM MDB - Đà Nẵng\",\"place_name\":\"92-94 Lê Duẩn, Phường Thạch Thang, Quận Hải Châu, Đà Nẵng\",\"center\":[108.21655478328466,16.071124859154224],\"properties\":{},\"geometry\":{\"type\":\"Point\",\"coordinates\":[108.21655478328466,16.071124859154224]},\"imagepath\":\"https://files.viettelmap.vn/images/thumb/poi/atm.png\",\"markername\":\"https://files.viettelmap.vn/images/marker/poi/atm.png\",\"saved\":false},{\"id\":\"23751\",\"poiType\":21,\"type\":\"Feature\",\"place_type\":[\"place\"],\"relevance\":1.0,\"text\":\"ATM HDBank - Chi Lăng\",\"place_name\":\"74 - 76 - 78 Chi Lăng, P. Hải Châu 2 Quận Hải Châu Đà Nẵng\",\"center\":[108.215490616858,16.068883538246155],\"properties\":{},\"geometry\":{\"type\":\"Point\",\"coordinates\":[108.215490616858,16.068883538246155]},\"imagepath\":\"https://files.viettelmap.vn/images/thumb/poi/atm.png\",\"markername\":\"https://files.viettelmap.vn/images/marker/poi/atm.png\",\"saved\":false},{\"id\":\"8142\",\"poiType\":21,\"type\":\"Feature\",\"place_type\":[\"place\"],\"relevance\":1.0,\"text\":\"ATM VIB\",\"place_name\":\"Lê Duẩn, Phường Thạch Thang, Quận Hải Châu, Đà Nẵng\",\"center\":[108.21521501988173,16.070685479789972],\"properties\":{},\"geometry\":{\"type\":\"Point\",\"coordinates\":[108.21521501988173,16.070685479789972]},\"imagepath\":\"https://files.viettelmap.vn/images/thumb/poi/atm.png\",\"markername\":\"https://files.viettelmap.vn/images/marker/poi/atm.png\",\"saved\":false},{\"id\":\"9842\",\"poiType\":21,\"type\":\"Feature\",\"place_type\":[\"place\"],\"relevance\":1.0,\"text\":\"ATM ABBank- Hùng Vương\",\"place_name\":\"195 Đường Hùng Vương, Phường Hải Châu II, Quận Hải Châu, Đà Nẵng\",\"center\":[108.21601297706366,16.067882906645536],\"properties\":{},\"geometry\":{\"type\":\"Point\",\"coordinates\":[108.21601297706366,16.067882906645536]},\"imagepath\":\"https://files.viettelmap.vn/images/thumb/poi/atm.png\",\"markername\":\"https://files.viettelmap.vn/images/marker/poi/atm.png\",\"saved\":false},{\"id\":\"13521\",\"poiType\":21,\"type\":\"Feature\",\"place_type\":[\"place\"],\"relevance\":1.0,\"text\":\"VietinBank - ATM\",\"place_name\":\"163 Lê Duẩn, Phường Thạch Thang, Quận Hải Châu, Đà Nẵng\",\"center\":[108.21434698998928,16.07048498466611],\"properties\":{},\"geometry\":{\"type\":\"Point\",\"coordinates\":[108.21434698998928,16.07048498466611]},\"imagepath\":\"https://files.viettelmap.vn/images/thumb/poi/atm.png\",\"markername\":\"https://files.viettelmap.vn/images/marker/poi/atm.png\",\"saved\":false},{\"id\":\"7665\",\"poiType\":21,\"type\":\"Feature\",\"place_type\":[\"place\"],\"relevance\":1.0,\"text\":\"ATM Saigonbank\",\"place_name\":\"Ngô Gia Tự, Phường Hải Châu II, Quận Hải Châu, Đà Nẵng\",\"center\":[108.21745298802853,16.068102344870567],\"properties\":{},\"geometry\":{\"type\":\"Point\",\"coordinates\":[108.21745298802853,16.068102344870567]},\"imagepath\":\"https://files.viettelmap.vn/images/thumb/poi/atm.png\",\"markername\":\"https://files.viettelmap.vn/images/marker/poi/atm.png\",\"saved\":false},{\"id\":\"23849\",\"poiType\":21,\"type\":\"Feature\",\"place_type\":[\"place\"],\"relevance\":1.0,\"text\":\"ATM VietinBank - Lê Duẩn\",\"place_name\":\"163 Lê Duẩn, Quận Hải Châu Đà Nẵng\",\"center\":[108.214274905622,16.07038289308548],\"properties\":{},\"geometry\":{\"type\":\"Point\",\"coordinates\":[108.214274905622,16.07038289308548]},\"imagepath\":\"https://files.viettelmap.vn/images/thumb/poi/atm.png\",\"markername\":\"https://files.viettelmap.vn/images/marker/poi/atm.png\",\"saved\":false},{\"id\":\"12758\",\"poiType\":21,\"type\":\"Feature\",\"place_type\":[\"place\"],\"relevance\":1.0,\"text\":\"Agribank - Atm\",\"place_name\":\"188 Hùng Vương, Phường Hải Châu II, Quận Hải Châu, Đà Nẵng\",\"center\":[108.21746673434973,16.068054903298616],\"properties\":{},\"geometry\":{\"type\":\"Point\",\"coordinates\":[108.21746673434973,16.068054903298616]},\"imagepath\":\"https://files.viettelmap.vn/images/thumb/poi/atm.png\",\"markername\":\"https://files.viettelmap.vn/images/marker/poi/atm.png\",\"saved\":false}],\"attribution\":\"NOTICE: © 2019 ViettelMap and its suppliers. All rights reserved\"}\n"
     ]
    }
   ],
   "source": [
    "r = requests.post(url, headers=headers, data=json.dumps(payload))\n",
    "print(r.text)"
   ]
  }
 ],
 "metadata": {
  "kernelspec": {
   "display_name": "Python 3",
   "language": "python",
   "name": "python3"
  },
  "language_info": {
   "codemirror_mode": {
    "name": "ipython",
    "version": 3
   },
   "file_extension": ".py",
   "mimetype": "text/x-python",
   "name": "python",
   "nbconvert_exporter": "python",
   "pygments_lexer": "ipython3",
   "version": "3.7.7"
  }
 },
 "nbformat": 4,
 "nbformat_minor": 4
}
