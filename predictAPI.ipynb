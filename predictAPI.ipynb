{
 "cells": [
  {
   "cell_type": "code",
   "execution_count": 1,
   "metadata": {},
   "outputs": [],
   "source": [
    "import numpy as np\n",
    "from random import randint\n",
    "import os\n",
    "import json\n",
    "import settings\n",
    "import pickle as pickle\n",
    "from fileProcess import FileReader, FileStore \n",
    "from preProcessData import FeatureExtraction, NLP\n",
    "from pyvi import ViTokenizer\n",
    "from sklearn.svm import LinearSVC\n",
    "from gensim import corpora, matutils\n",
    "from sklearn.metrics import classification_report\n",
    "from argparse import ArgumentParser\n",
    "import os.path"
   ]
  },
  {
   "cell_type": "code",
   "execution_count": 3,
   "metadata": {},
   "outputs": [],
   "source": [
    "def is_valid_file(parser, arg):\n",
    "    if not os.path.exists(arg):\n",
    "        parser.error(\"The file %s does not exist!\" % arg)\n",
    "    else:\n",
    "        return open(arg, 'r')   # return an open file handle\n",
    "\n",
    "def readInput():\n",
    "    parser = ArgumentParser(description=\"ikjMatrix multiplication\")\n",
    "    parser.add_argument(\"-i\", dest=\"filename\", required=True,\n",
    "                        help=\"File need predict\", metavar=\"FILE\",\n",
    "                        type=lambda x: is_valid_file(parser, x))\n",
    "    args = parser.parse_args()\n",
    "    return args.filename.read()\n"
   ]
  },
  {
   "cell_type": "code",
   "execution_count": 19,
   "metadata": {},
   "outputs": [],
   "source": [
    "classifier = pickle.load(open('trained_model/logistic_model.pk','rb'))"
   ]
  },
  {
   "cell_type": "code",
   "execution_count": 24,
   "metadata": {},
   "outputs": [],
   "source": [
    "# tf-idf\n",
    "data = 'Tọa lạc trên ngọn đồi Robin thơ mộng, quán cafe Bùi Văn Ngọ cực kỳ lãng mạn và là nơi lý tưởng dành cho các cặp đôi hay những ai mong muốn tìm kiếm được một không gian yên tĩnh.'\n",
    "vectorizer = pickle.load(open(settings.VECTOR_EMBEDDING,'rb'))\n",
    "data_features = []\n",
    "data_features.append(' '.join(NLP(text=data).remove_stopwords()))\n",
    "features = vectorizer.transform(data_features)"
   ]
  },
  {
   "cell_type": "code",
   "execution_count": 25,
   "metadata": {},
   "outputs": [
    {
     "name": "stdout",
     "output_type": "stream",
     "text": [
      "['Quan Ca Phe']\n"
     ]
    }
   ],
   "source": [
    "print(classifier.predict(features))"
   ]
  },
  {
   "cell_type": "code",
   "execution_count": 21,
   "metadata": {},
   "outputs": [],
   "source": [
    "text_category = 'Healthy'"
   ]
  },
  {
   "cell_type": "code",
   "execution_count": 22,
   "metadata": {},
   "outputs": [],
   "source": [
    "import requests"
   ]
  },
  {
   "cell_type": "code",
   "execution_count": 26,
   "metadata": {},
   "outputs": [],
   "source": [
    "data_json = requests.get('https://api.viettelmaps.com.vn:8080/gateway/searching/v1/place-api/autocomplete?input='+text_category+'&center=16,108&access_token=f68f98d802ba6c0a60ee9dc44c47f48c')\n"
   ]
  },
  {
   "cell_type": "code",
   "execution_count": 27,
   "metadata": {},
   "outputs": [],
   "source": [
    "data_json = data_json.json()"
   ]
  },
  {
   "cell_type": "code",
   "execution_count": 28,
   "metadata": {},
   "outputs": [
    {
     "data": {
      "text/plain": [
       "{'attributions': 'NOTICE: © 2019 ViettelMap and its suppliers. All rights reserved',\n",
       " 'data': [{'placeId': '59574a6a4c4455314e444d304c4449314c47526c5a673d3d',\n",
       "   'text': 'Goom - Healthy Foods & Beverages Nguyễn Chí Thanh, Quận Hải Châu Đà Nẵng'},\n",
       "  {'placeId': '59574a6a4c4455324f4441784c4449314c47526c5a673d3d',\n",
       "   'text': 'Bếp Healthy - Shop Online Nguyễn Bỉnh Khiêm, Quận Sơn Trà Đà Nẵng'},\n",
       "  {'placeId': '59574a6a4c4445794d7a59734d6a55735a47566d',\n",
       "   'text': 'Healthy Meal Box K126/9 Nguyễn Duy Hiệu Sơn Trà, Đà Nẵng, Việt Nam'},\n",
       "  {'placeId': '59574a6a4c4445794f4449784c4449314c47526c5a673d3d',\n",
       "   'text': 'Healthy Meal Box 126/9 Nguyễn Duy Hiệu, Quận Sơn Trà Đà Nẵng'},\n",
       "  {'placeId': '59574a6a4c4445354e7a677a4d5377794e79786b5a57593d',\n",
       "   'text': 'Healthyfarm Shop  Bà Huyện Thanh Quan, Quận Ngũ Hành Sơn Đà Nẵng'}]}"
      ]
     },
     "execution_count": 28,
     "metadata": {},
     "output_type": "execute_result"
    }
   ],
   "source": [
    "data_json"
   ]
  }
 ],
 "metadata": {
  "kernelspec": {
   "display_name": "Python 3",
   "language": "python",
   "name": "python3"
  },
  "language_info": {
   "codemirror_mode": {
    "name": "ipython",
    "version": 3
   },
   "file_extension": ".py",
   "mimetype": "text/x-python",
   "name": "python",
   "nbconvert_exporter": "python",
   "pygments_lexer": "ipython3",
   "version": "3.7.7"
  }
 },
 "nbformat": 4,
 "nbformat_minor": 4
}
