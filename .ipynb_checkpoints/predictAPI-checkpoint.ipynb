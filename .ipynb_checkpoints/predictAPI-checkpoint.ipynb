{
 "cells": [
  {
   "cell_type": "code",
   "execution_count": 1,
   "metadata": {},
   "outputs": [],
   "source": [
    "import numpy as np\n",
    "from random import randint\n",
    "import os\n",
    "import json\n",
    "import settings\n",
    "import pickle as pickle\n",
    "from fileProcess import FileReader, FileStore \n",
    "from preProcessData import FeatureExtraction, NLP\n",
    "from pyvi import ViTokenizer\n",
    "from sklearn.svm import LinearSVC\n",
    "from gensim import corpora, matutils\n",
    "from sklearn.metrics import classification_report\n",
    "from argparse import ArgumentParser\n",
    "import os.path\n",
    "import requests\n",
    "from underthesea import ner"
   ]
  },
  {
   "cell_type": "code",
   "execution_count": 169,
   "metadata": {},
   "outputs": [],
   "source": [
    "def is_valid_file(parser, arg):\n",
    "    if not os.path.exists(arg):\n",
    "        parser.error(\"The file %s does not exist!\" % arg)\n",
    "    else:\n",
    "        return open(arg, 'r')   # return an open file handle\n",
    "\n",
    "def readInput():\n",
    "    parser = ArgumentParser(description=\"ikjMatrix multiplication\")\n",
    "    parser.add_argument(\"-i\", dest=\"filename\", required=True,\n",
    "                        help=\"File need predict\", metavar=\"FILE\",\n",
    "                        type=lambda x: is_valid_file(parser, x))\n",
    "    args = parser.parse_args()\n",
    "    return args.filename.read()\n",
    "def selectPlace(list):\n",
    "    for text in list:\n",
    "        if text[3] == \"B-LOC\" or text[3] == \"I-LOC\":\n",
    "            yield(text[0])\n",
    "def findCoordinatePlace(place):\n",
    "#     if 'đường' not in place:\n",
    "#         return '16.059664953500032,108.21168188005686'\n",
    "#     else:\n",
    "        try:\n",
    "            if 'đường' in place:\n",
    "                place = place.replace('đường', '')\n",
    "            print(place)\n",
    "            data_json = requests.get('https://api.viettelmaps.com.vn:8080/gateway/searching/v1/place-api/geocoding?address='+place+'&access_token=f68f98d802ba6c0a60ee9dc44c47f48c').json()\n",
    "            coordinates = ','.join(str(e) for e in data_json['data']['geometry']['coordinates'][::-1])\n",
    "            return str(coordinates)\n",
    "        except:\n",
    "            return '16.059664953500032,108.21168188005686'"
   ]
  },
  {
   "cell_type": "code",
   "execution_count": 19,
   "metadata": {},
   "outputs": [],
   "source": [
    "classifier = pickle.load(open('trained_model/logistic_model.pk','rb'))"
   ]
  },
  {
   "cell_type": "code",
   "execution_count": 161,
   "metadata": {},
   "outputs": [],
   "source": [
    "# tf-idf\n",
    "data = 'tìm khách sạn ở quốc lộ 14B, Đà Nẵng'\n",
    "vectorizer = pickle.load(open(settings.VECTOR_EMBEDDING,'rb'))\n",
    "data_features = []\n",
    "data_features.append(' '.join(NLP(text=data).remove_stopwords()))\n",
    "features = vectorizer.transform(data_features)"
   ]
  },
  {
   "cell_type": "code",
   "execution_count": 162,
   "metadata": {},
   "outputs": [
    {
     "name": "stdout",
     "output_type": "stream",
     "text": [
      "['Khach San']\n"
     ]
    }
   ],
   "source": [
    "print(classifier.predict(features))"
   ]
  },
  {
   "cell_type": "markdown",
   "metadata": {},
   "source": [
    "# TEST CATEGORY"
   ]
  },
  {
   "cell_type": "code",
   "execution_count": 163,
   "metadata": {},
   "outputs": [],
   "source": [
    "text_category = classifier.predict(features)[0]"
   ]
  },
  {
   "cell_type": "code",
   "execution_count": 164,
   "metadata": {},
   "outputs": [
    {
     "data": {
      "text/plain": [
       "'quốc lộ 14B Đà Nẵng'"
      ]
     },
     "execution_count": 164,
     "metadata": {},
     "output_type": "execute_result"
    }
   ],
   "source": [
    "list_result = ' '.join(str(e) for e in selectPlace(ner(data)))\n",
    "list_result"
   ]
  },
  {
   "cell_type": "code",
   "execution_count": 170,
   "metadata": {},
   "outputs": [
    {
     "data": {
      "text/plain": [
       "'16.059664953500032,108.21168188005686'"
      ]
     },
     "execution_count": 170,
     "metadata": {},
     "output_type": "execute_result"
    }
   ],
   "source": [
    "coordinates = findCoordinatePlace(list_result)\n",
    "coordinates"
   ]
  },
  {
   "cell_type": "code",
   "execution_count": 27,
   "metadata": {},
   "outputs": [],
   "source": [
    "import requests"
   ]
  },
  {
   "cell_type": "code",
   "execution_count": 154,
   "metadata": {},
   "outputs": [],
   "source": [
    "data_json = requests.get('https://api.viettelmaps.com.vn:8080/gateway/searching/v1/place-api/autocomplete?input='+text_category+'&center='+coordinates+'&access_token=f68f98d802ba6c0a60ee9dc44c47f48c')\n"
   ]
  },
  {
   "cell_type": "code",
   "execution_count": 155,
   "metadata": {},
   "outputs": [],
   "source": [
    "data_json = data_json.json()"
   ]
  },
  {
   "cell_type": "code",
   "execution_count": 156,
   "metadata": {},
   "outputs": [
    {
     "data": {
      "text/plain": [
       "{'attributions': 'NOTICE: © 2019 ViettelMap and its suppliers. All rights reserved',\n",
       " 'data': [{'placeId': '59574a6a4c444d354d4463344c4445334c47526c5a673d3d',\n",
       "   'text': 'Quán Cà Phê Giải Khát Nguyễn Thị Trúc Loan K47/27A Đường Lý Thái Tổ, Phường Thạc Gián, Quận Thanh Khê, Đà Nẵng'},\n",
       "  {'placeId': '59574a6a4c444d354d5455304c4445334c47526c5a673d3d',\n",
       "   'text': 'Quán Cà Phê Giải Khát Trần Hữu Khoa Đường Lê Duẩn, Phường Tân Chính, Quận Thanh Khê, Đà Nẵng'},\n",
       "  {'placeId': '59574a6a4c444d344d7a41774c4445334c47526c5a673d3d',\n",
       "   'text': 'Quán Cà Phê 310 464 Đường Lê Duẩn, Phường Chính Gián, Quận Thanh Khê, Đà Nẵng'},\n",
       "  {'placeId': '59574a6a4c444d344d7a49354c4445334c47526c5a673d3d',\n",
       "   'text': 'Quán Cà Phê 42 42 Văn Cao, Phường Thạc Gián, Quận Thanh Khê, Đà Nẵng'},\n",
       "  {'placeId': '59574a6a4c444d354d54557a4c4445334c47526c5a673d3d',\n",
       "   'text': 'Quán Cà Phê Giải Khát Trần Đình Thịnh Đường Phan Thanh, Phường Thạc Gián, Quận Thanh Khê, Đà Nẵng'}]}"
      ]
     },
     "execution_count": 156,
     "metadata": {},
     "output_type": "execute_result"
    }
   ],
   "source": [
    "data_json"
   ]
  },
  {
   "cell_type": "markdown",
   "metadata": {},
   "source": [
    "## GET COORDINATE "
   ]
  },
  {
   "cell_type": "code",
   "execution_count": 157,
   "metadata": {},
   "outputs": [],
   "source": [
    "place = \"Lê Duẩn Đà Nẵng\""
   ]
  },
  {
   "cell_type": "code",
   "execution_count": 158,
   "metadata": {},
   "outputs": [],
   "source": [
    "data_json = requests.get('https://api.viettelmaps.com.vn:8080/gateway/searching/v1/place-api/geocoding?address='+place+'&access_token=f68f98d802ba6c0a60ee9dc44c47f48c').json()\n"
   ]
  },
  {
   "cell_type": "code",
   "execution_count": 159,
   "metadata": {},
   "outputs": [
    {
     "data": {
      "text/plain": [
       "{'attributions': 'NOTICE: © 2019 ViettelMap and its suppliers. All rights reserved',\n",
       " 'data': {'type': 'Feature',\n",
       "  'properties': {'street_address': 'Lê Duẩn',\n",
       "   'types': ['tiem-nail'],\n",
       "   'house_num_address': None,\n",
       "   'name': 'ADAM STORE - Lê Duẩn, Đà Nẵng',\n",
       "   'administrative_address': 'Quận Thanh Khê Đà Nẵng',\n",
       "   'full_address': 'Lê Duẩn, Quận Thanh Khê Đà Nẵng',\n",
       "   'place_id': '59574a6a4c4445784e4441734d6a51735a47566d'},\n",
       "  'geometry': {'type': 'Point',\n",
       "   'coordinates': [108.2086107507348, 16.068331841379404]}}}"
      ]
     },
     "execution_count": 159,
     "metadata": {},
     "output_type": "execute_result"
    }
   ],
   "source": [
    "data_json"
   ]
  },
  {
   "cell_type": "code",
   "execution_count": 72,
   "metadata": {},
   "outputs": [
    {
     "data": {
      "text/plain": [
       "{'attributions': 'NOTICE: © 2019 ViettelMap and its suppliers. All rights reserved',\n",
       " 'data': {'type': 'Feature',\n",
       "  'properties': {'street_address': None,\n",
       "   'types': ['restaurant'],\n",
       "   'house_num_address': None,\n",
       "   'name': 'Lien',\n",
       "   'administrative_address': 'Duong Nguyen Van Linh, Đà Nẵng Việt Nam',\n",
       "   'full_address': 'Duong Nguyen Van Linh, Đà Nẵng Việt Nam',\n",
       "   'place_id': '59574a6a4c44457a4d5455734d6a55735a47566d'},\n",
       "  'geometry': {'type': 'Point',\n",
       "   'coordinates': [108.20259992033243, 16.056407913565636]}}}"
      ]
     },
     "execution_count": 72,
     "metadata": {},
     "output_type": "execute_result"
    }
   ],
   "source": [
    "data_json"
   ]
  },
  {
   "cell_type": "code",
   "execution_count": 59,
   "metadata": {},
   "outputs": [],
   "source": [
    "coordinates = ','.join(str(e) for e in data_json['data']['geometry']['coordinates'][::-1])"
   ]
  },
  {
   "cell_type": "code",
   "execution_count": 61,
   "metadata": {},
   "outputs": [
    {
     "data": {
      "text/plain": [
       "'10.782159883528948,106.69175282120705'"
      ]
     },
     "execution_count": 61,
     "metadata": {},
     "output_type": "execute_result"
    }
   ],
   "source": [
    "str(coordinates)"
   ]
  },
  {
   "cell_type": "markdown",
   "metadata": {},
   "source": [
    "# TEST"
   ]
  },
  {
   "cell_type": "code",
   "execution_count": 62,
   "metadata": {},
   "outputs": [],
   "source": [
    "data_json = requests.get('https://api.viettelmaps.com.vn:8080/gateway/searching/v1/place-api/autocomplete?input='+text_category+'&center='+coordinates+'&access_token=f68f98d802ba6c0a60ee9dc44c47f48c')\n"
   ]
  },
  {
   "cell_type": "code",
   "execution_count": 63,
   "metadata": {},
   "outputs": [
    {
     "data": {
      "text/plain": [
       "{'attributions': 'NOTICE: © 2019 ViettelMap and its suppliers. All rights reserved',\n",
       " 'data': [{'placeId': '59574a6a4c4455794e5441734d6a55735a47566d',\n",
       "   'text': 'Quán cà phê Highlands Coffee 28 Võ Văn Tần, Phường 6, Quận 3 Bảo Tàng Chứng Tích Chiến Tranh, Thành phố Hồ Chí Minh Việt Nam'},\n",
       "  {'placeId': '59574a6a4c4449314f4463784c4445334c47526c5a673d3d',\n",
       "   'text': 'Hội quán Cà Phê Trung Nguyên Số 19B Đường Phạm Ngọc Thạch, Phường 6, Quận 3, Hồ Chí Minh'},\n",
       "  {'placeId': '59574a6a4c4445354f4451344c4445334c47526c5a673d3d',\n",
       "   'text': 'Quán Cà Phê Giải Khát 128 Nguyễn Đình Chiểu, Phường 6, Quận 3, Hồ Chí Minh'},\n",
       "  {'placeId': '59574a6a4c4445354f4441774c4445334c47526c5a673d3d',\n",
       "   'text': \"Quán Cà Phê Báo Chí - Cafe' Press 14 Alexandre De Rhodes, Phường Bến Nghé, Quận 1, Hồ Chí Minh\"},\n",
       "  {'placeId': '59574a6a4c4445354e7a59314c4445334c47526c5a673d3d',\n",
       "   'text': 'Quán Cà Phê - Trà Tiến Hùng 67 Võ Văn Tần, Phường 6, Quận 3, Hồ Chí Minh'}]}"
      ]
     },
     "execution_count": 63,
     "metadata": {},
     "output_type": "execute_result"
    }
   ],
   "source": [
    "data_json = data_json.json()\n",
    "data_json"
   ]
  },
  {
   "cell_type": "markdown",
   "metadata": {},
   "source": [
    "# TEST POS TAGGING"
   ]
  },
  {
   "cell_type": "code",
   "execution_count": 67,
   "metadata": {},
   "outputs": [],
   "source": [
    "from underthesea import ner"
   ]
  },
  {
   "cell_type": "code",
   "execution_count": 104,
   "metadata": {},
   "outputs": [
    {
     "data": {
      "text/plain": [
       "[('tìm', 'V', 'B-VP', 'O'),\n",
       " ('khách sạn', 'N', 'B-NP', 'O'),\n",
       " ('ở', 'E', 'B-PP', 'O'),\n",
       " ('đường', 'N', 'B-NP', 'B-LOC'),\n",
       " ('Lê Duẩn', 'Np', 'I-NP', 'I-LOC'),\n",
       " (',', 'CH', 'O', 'O'),\n",
       " ('Đà Nẵng', 'Np', 'B-NP', 'B-LOC')]"
      ]
     },
     "execution_count": 104,
     "metadata": {},
     "output_type": "execute_result"
    }
   ],
   "source": [
    "result = ner(\"tìm khách sạn ở đường Lê Duẩn,Đà Nẵng\")\n",
    "result"
   ]
  },
  {
   "cell_type": "code",
   "execution_count": 105,
   "metadata": {},
   "outputs": [],
   "source": [
    "def selectPlace(list):\n",
    "    for text in list:\n",
    "        if text[3] == \"B-LOC\" or text[3] == \"I-LOC\":\n",
    "            yield(text[0])\n",
    "list_result = ' '.join(str(e) for e in selectPlace(result))           "
   ]
  },
  {
   "cell_type": "code",
   "execution_count": 112,
   "metadata": {},
   "outputs": [
    {
     "data": {
      "text/plain": [
       "False"
      ]
     },
     "execution_count": 112,
     "metadata": {},
     "output_type": "execute_result"
    }
   ],
   "source": [
    "'toto' in list_result"
   ]
  }
 ],
 "metadata": {
  "kernelspec": {
   "display_name": "Python 3",
   "language": "python",
   "name": "python3"
  },
  "language_info": {
   "codemirror_mode": {
    "name": "ipython",
    "version": 3
   },
   "file_extension": ".py",
   "mimetype": "text/x-python",
   "name": "python",
   "nbconvert_exporter": "python",
   "pygments_lexer": "ipython3",
   "version": "3.7.7"
  }
 },
 "nbformat": 4,
 "nbformat_minor": 4
}
